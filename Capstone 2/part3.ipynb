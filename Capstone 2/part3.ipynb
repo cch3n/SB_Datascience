{
 "cells": [
  {
   "cell_type": "code",
   "execution_count": 1,
   "metadata": {},
   "outputs": [],
   "source": [
    "import warnings\n",
    "warnings.filterwarnings('ignore')\n",
    "import numpy as np\n",
    "np.finfo(np.float)\n",
    "import pandas as pd\n",
    "import matplotlib.pyplot as plt\n",
    "import seaborn as sns\n",
    "warnings.filterwarnings('ignore', category = DeprecationWarning)\n",
    "import nltk\n",
    "from nltk import word_tokenize\n",
    "from datetime import datetime\n",
    "import scipy.stats.distributions as dist"
   ]
  },
  {
   "cell_type": "code",
   "execution_count": 2,
   "metadata": {},
   "outputs": [],
   "source": [
    "pd.set_option('display.max_columns', None)\n",
    "\n",
    "file = pd.read_csv(r'C:\\Users\\xuanx\\Desktop\\Steam_Reviews\\steam_reviews.csv')"
   ]
  },
  {
   "cell_type": "code",
   "execution_count": 3,
   "metadata": {},
   "outputs": [
    {
     "data": {
      "text/plain": [
       "english      9635437\n",
       "schinese     3764967\n",
       "russian      2348900\n",
       "brazilian     837524\n",
       "spanish       813320\n",
       "Name: language, dtype: int64"
      ]
     },
     "execution_count": 3,
     "metadata": {},
     "output_type": "execute_result"
    }
   ],
   "source": [
    "file['language'].value_counts()[:5]"
   ]
  },
  {
   "cell_type": "code",
   "execution_count": 4,
   "metadata": {},
   "outputs": [],
   "source": [
    "#pick out english reviews only\n",
    "df = file[file['language'] == 'english']"
   ]
  },
  {
   "cell_type": "code",
   "execution_count": 5,
   "metadata": {},
   "outputs": [
    {
     "data": {
      "text/plain": [
       "True     8584444\n",
       "False    1050993\n",
       "Name: recommended, dtype: int64"
      ]
     },
     "execution_count": 5,
     "metadata": {},
     "output_type": "execute_result"
    }
   ],
   "source": [
    "df['recommended'].value_counts()"
   ]
  },
  {
   "cell_type": "code",
   "execution_count": 6,
   "metadata": {},
   "outputs": [
    {
     "name": "stdout",
     "output_type": "stream",
     "text": [
      "16750\n"
     ]
    }
   ],
   "source": [
    "#Checking review column for null values and removing them.\n",
    "print(df.review.isnull().sum())\n",
    "df1 = df[df.review.isnull()== False]"
   ]
  },
  {
   "cell_type": "code",
   "execution_count": 7,
   "metadata": {},
   "outputs": [
    {
     "data": {
      "text/html": [
       "<div>\n",
       "<style scoped>\n",
       "    .dataframe tbody tr th:only-of-type {\n",
       "        vertical-align: middle;\n",
       "    }\n",
       "\n",
       "    .dataframe tbody tr th {\n",
       "        vertical-align: top;\n",
       "    }\n",
       "\n",
       "    .dataframe thead th {\n",
       "        text-align: right;\n",
       "    }\n",
       "</style>\n",
       "<table border=\"1\" class=\"dataframe\">\n",
       "  <thead>\n",
       "    <tr style=\"text-align: right;\">\n",
       "      <th></th>\n",
       "      <th>Unnamed: 0</th>\n",
       "      <th>app_id</th>\n",
       "      <th>app_name</th>\n",
       "      <th>review_id</th>\n",
       "      <th>language</th>\n",
       "      <th>review</th>\n",
       "      <th>timestamp_created</th>\n",
       "      <th>timestamp_updated</th>\n",
       "      <th>recommended</th>\n",
       "      <th>votes_helpful</th>\n",
       "      <th>votes_funny</th>\n",
       "      <th>weighted_vote_score</th>\n",
       "      <th>comment_count</th>\n",
       "      <th>steam_purchase</th>\n",
       "      <th>received_for_free</th>\n",
       "      <th>written_during_early_access</th>\n",
       "      <th>author.steamid</th>\n",
       "      <th>author.num_games_owned</th>\n",
       "      <th>author.num_reviews</th>\n",
       "      <th>author.playtime_forever</th>\n",
       "      <th>author.playtime_last_two_weeks</th>\n",
       "      <th>author.playtime_at_review</th>\n",
       "      <th>author.last_played</th>\n",
       "    </tr>\n",
       "  </thead>\n",
       "  <tbody>\n",
       "    <tr>\n",
       "      <th>3</th>\n",
       "      <td>3</td>\n",
       "      <td>292030</td>\n",
       "      <td>The Witcher 3: Wild Hunt</td>\n",
       "      <td>85184605</td>\n",
       "      <td>english</td>\n",
       "      <td>One of the best RPG's of all time, worthy of a...</td>\n",
       "      <td>1611379970</td>\n",
       "      <td>1611379970</td>\n",
       "      <td>True</td>\n",
       "      <td>0</td>\n",
       "      <td>0</td>\n",
       "      <td>0.000000</td>\n",
       "      <td>0</td>\n",
       "      <td>True</td>\n",
       "      <td>False</td>\n",
       "      <td>False</td>\n",
       "      <td>76561199054755373</td>\n",
       "      <td>5</td>\n",
       "      <td>3</td>\n",
       "      <td>5587.0</td>\n",
       "      <td>3200.0</td>\n",
       "      <td>5524.0</td>\n",
       "      <td>1.611384e+09</td>\n",
       "    </tr>\n",
       "    <tr>\n",
       "      <th>5</th>\n",
       "      <td>5</td>\n",
       "      <td>292030</td>\n",
       "      <td>The Witcher 3: Wild Hunt</td>\n",
       "      <td>85184171</td>\n",
       "      <td>english</td>\n",
       "      <td>good story, good graphics. lots to do.</td>\n",
       "      <td>1611379264</td>\n",
       "      <td>1611379264</td>\n",
       "      <td>True</td>\n",
       "      <td>0</td>\n",
       "      <td>0</td>\n",
       "      <td>0.000000</td>\n",
       "      <td>0</td>\n",
       "      <td>True</td>\n",
       "      <td>False</td>\n",
       "      <td>False</td>\n",
       "      <td>76561198170193529</td>\n",
       "      <td>11</td>\n",
       "      <td>1</td>\n",
       "      <td>823.0</td>\n",
       "      <td>823.0</td>\n",
       "      <td>823.0</td>\n",
       "      <td>1.611379e+09</td>\n",
       "    </tr>\n",
       "    <tr>\n",
       "      <th>6</th>\n",
       "      <td>6</td>\n",
       "      <td>292030</td>\n",
       "      <td>The Witcher 3: Wild Hunt</td>\n",
       "      <td>85184064</td>\n",
       "      <td>english</td>\n",
       "      <td>dis gud,</td>\n",
       "      <td>1611379091</td>\n",
       "      <td>1611379091</td>\n",
       "      <td>True</td>\n",
       "      <td>0</td>\n",
       "      <td>0</td>\n",
       "      <td>0.000000</td>\n",
       "      <td>0</td>\n",
       "      <td>True</td>\n",
       "      <td>False</td>\n",
       "      <td>False</td>\n",
       "      <td>76561198119302812</td>\n",
       "      <td>27</td>\n",
       "      <td>2</td>\n",
       "      <td>4192.0</td>\n",
       "      <td>3398.0</td>\n",
       "      <td>4192.0</td>\n",
       "      <td>1.611352e+09</td>\n",
       "    </tr>\n",
       "    <tr>\n",
       "      <th>18</th>\n",
       "      <td>18</td>\n",
       "      <td>292030</td>\n",
       "      <td>The Witcher 3: Wild Hunt</td>\n",
       "      <td>85180436</td>\n",
       "      <td>english</td>\n",
       "      <td>favorite game of all time cant wait for the Ne...</td>\n",
       "      <td>1611373086</td>\n",
       "      <td>1611373086</td>\n",
       "      <td>True</td>\n",
       "      <td>0</td>\n",
       "      <td>0</td>\n",
       "      <td>0.000000</td>\n",
       "      <td>0</td>\n",
       "      <td>True</td>\n",
       "      <td>False</td>\n",
       "      <td>False</td>\n",
       "      <td>76561198065591528</td>\n",
       "      <td>33</td>\n",
       "      <td>1</td>\n",
       "      <td>23329.0</td>\n",
       "      <td>177.0</td>\n",
       "      <td>23329.0</td>\n",
       "      <td>1.611219e+09</td>\n",
       "    </tr>\n",
       "    <tr>\n",
       "      <th>20</th>\n",
       "      <td>20</td>\n",
       "      <td>292030</td>\n",
       "      <td>The Witcher 3: Wild Hunt</td>\n",
       "      <td>85179753</td>\n",
       "      <td>english</td>\n",
       "      <td>Why wouldn't you get this</td>\n",
       "      <td>1611371978</td>\n",
       "      <td>1611371978</td>\n",
       "      <td>True</td>\n",
       "      <td>0</td>\n",
       "      <td>0</td>\n",
       "      <td>0.000000</td>\n",
       "      <td>0</td>\n",
       "      <td>True</td>\n",
       "      <td>False</td>\n",
       "      <td>False</td>\n",
       "      <td>76561198996835044</td>\n",
       "      <td>131</td>\n",
       "      <td>2</td>\n",
       "      <td>8557.0</td>\n",
       "      <td>2004.0</td>\n",
       "      <td>8557.0</td>\n",
       "      <td>1.611371e+09</td>\n",
       "    </tr>\n",
       "    <tr>\n",
       "      <th>...</th>\n",
       "      <td>...</td>\n",
       "      <td>...</td>\n",
       "      <td>...</td>\n",
       "      <td>...</td>\n",
       "      <td>...</td>\n",
       "      <td>...</td>\n",
       "      <td>...</td>\n",
       "      <td>...</td>\n",
       "      <td>...</td>\n",
       "      <td>...</td>\n",
       "      <td>...</td>\n",
       "      <td>...</td>\n",
       "      <td>...</td>\n",
       "      <td>...</td>\n",
       "      <td>...</td>\n",
       "      <td>...</td>\n",
       "      <td>...</td>\n",
       "      <td>...</td>\n",
       "      <td>...</td>\n",
       "      <td>...</td>\n",
       "      <td>...</td>\n",
       "      <td>...</td>\n",
       "      <td>...</td>\n",
       "    </tr>\n",
       "    <tr>\n",
       "      <th>21747364</th>\n",
       "      <td>21747369</td>\n",
       "      <td>546560</td>\n",
       "      <td>Half-Life: Alyx</td>\n",
       "      <td>65645167</td>\n",
       "      <td>english</td>\n",
       "      <td>best game ever\\n</td>\n",
       "      <td>1584986750</td>\n",
       "      <td>1584986750</td>\n",
       "      <td>True</td>\n",
       "      <td>0</td>\n",
       "      <td>0</td>\n",
       "      <td>0.000000</td>\n",
       "      <td>0</td>\n",
       "      <td>True</td>\n",
       "      <td>False</td>\n",
       "      <td>False</td>\n",
       "      <td>76561198817267089</td>\n",
       "      <td>86</td>\n",
       "      <td>8</td>\n",
       "      <td>1055.0</td>\n",
       "      <td>14.0</td>\n",
       "      <td>45.0</td>\n",
       "      <td>1.611138e+09</td>\n",
       "    </tr>\n",
       "    <tr>\n",
       "      <th>21747366</th>\n",
       "      <td>21747371</td>\n",
       "      <td>546560</td>\n",
       "      <td>Half-Life: Alyx</td>\n",
       "      <td>65645125</td>\n",
       "      <td>english</td>\n",
       "      <td>Holy balls</td>\n",
       "      <td>1584986704</td>\n",
       "      <td>1584986704</td>\n",
       "      <td>True</td>\n",
       "      <td>0</td>\n",
       "      <td>0</td>\n",
       "      <td>0.000000</td>\n",
       "      <td>0</td>\n",
       "      <td>True</td>\n",
       "      <td>False</td>\n",
       "      <td>False</td>\n",
       "      <td>76561197967033932</td>\n",
       "      <td>431</td>\n",
       "      <td>7</td>\n",
       "      <td>432.0</td>\n",
       "      <td>0.0</td>\n",
       "      <td>29.0</td>\n",
       "      <td>1.586628e+09</td>\n",
       "    </tr>\n",
       "    <tr>\n",
       "      <th>21747367</th>\n",
       "      <td>21747372</td>\n",
       "      <td>546560</td>\n",
       "      <td>Half-Life: Alyx</td>\n",
       "      <td>65645115</td>\n",
       "      <td>english</td>\n",
       "      <td>A tripod thing bears down on you, it looks imm...</td>\n",
       "      <td>1584986693</td>\n",
       "      <td>1584986693</td>\n",
       "      <td>True</td>\n",
       "      <td>0</td>\n",
       "      <td>0</td>\n",
       "      <td>0.000000</td>\n",
       "      <td>0</td>\n",
       "      <td>False</td>\n",
       "      <td>False</td>\n",
       "      <td>False</td>\n",
       "      <td>76561198046495482</td>\n",
       "      <td>70</td>\n",
       "      <td>10</td>\n",
       "      <td>3296.0</td>\n",
       "      <td>15.0</td>\n",
       "      <td>24.0</td>\n",
       "      <td>1.611080e+09</td>\n",
       "    </tr>\n",
       "    <tr>\n",
       "      <th>21747368</th>\n",
       "      <td>21747373</td>\n",
       "      <td>546560</td>\n",
       "      <td>Half-Life: Alyx</td>\n",
       "      <td>65645100</td>\n",
       "      <td>english</td>\n",
       "      <td>Honestly this is the best vr game ever</td>\n",
       "      <td>1584986673</td>\n",
       "      <td>1584986673</td>\n",
       "      <td>True</td>\n",
       "      <td>0</td>\n",
       "      <td>0</td>\n",
       "      <td>0.474138</td>\n",
       "      <td>0</td>\n",
       "      <td>True</td>\n",
       "      <td>False</td>\n",
       "      <td>False</td>\n",
       "      <td>76561198176379749</td>\n",
       "      <td>79</td>\n",
       "      <td>17</td>\n",
       "      <td>2654.0</td>\n",
       "      <td>0.0</td>\n",
       "      <td>34.0</td>\n",
       "      <td>1.591634e+09</td>\n",
       "    </tr>\n",
       "    <tr>\n",
       "      <th>21747369</th>\n",
       "      <td>21747374</td>\n",
       "      <td>546560</td>\n",
       "      <td>Half-Life: Alyx</td>\n",
       "      <td>65645066</td>\n",
       "      <td>english</td>\n",
       "      <td>Smooth turning is not working right now.\\nIt a...</td>\n",
       "      <td>1584986631</td>\n",
       "      <td>1586382422</td>\n",
       "      <td>True</td>\n",
       "      <td>0</td>\n",
       "      <td>0</td>\n",
       "      <td>0.386022</td>\n",
       "      <td>11</td>\n",
       "      <td>True</td>\n",
       "      <td>False</td>\n",
       "      <td>False</td>\n",
       "      <td>76561198041763187</td>\n",
       "      <td>140</td>\n",
       "      <td>3</td>\n",
       "      <td>210.0</td>\n",
       "      <td>0.0</td>\n",
       "      <td>12.0</td>\n",
       "      <td>1.589715e+09</td>\n",
       "    </tr>\n",
       "  </tbody>\n",
       "</table>\n",
       "<p>9618687 rows × 23 columns</p>\n",
       "</div>"
      ],
      "text/plain": [
       "          Unnamed: 0  app_id                  app_name  review_id language  \\\n",
       "3                  3  292030  The Witcher 3: Wild Hunt   85184605  english   \n",
       "5                  5  292030  The Witcher 3: Wild Hunt   85184171  english   \n",
       "6                  6  292030  The Witcher 3: Wild Hunt   85184064  english   \n",
       "18                18  292030  The Witcher 3: Wild Hunt   85180436  english   \n",
       "20                20  292030  The Witcher 3: Wild Hunt   85179753  english   \n",
       "...              ...     ...                       ...        ...      ...   \n",
       "21747364    21747369  546560           Half-Life: Alyx   65645167  english   \n",
       "21747366    21747371  546560           Half-Life: Alyx   65645125  english   \n",
       "21747367    21747372  546560           Half-Life: Alyx   65645115  english   \n",
       "21747368    21747373  546560           Half-Life: Alyx   65645100  english   \n",
       "21747369    21747374  546560           Half-Life: Alyx   65645066  english   \n",
       "\n",
       "                                                     review  \\\n",
       "3         One of the best RPG's of all time, worthy of a...   \n",
       "5                    good story, good graphics. lots to do.   \n",
       "6                                                  dis gud,   \n",
       "18        favorite game of all time cant wait for the Ne...   \n",
       "20                                Why wouldn't you get this   \n",
       "...                                                     ...   \n",
       "21747364                                   best game ever\\n   \n",
       "21747366                                         Holy balls   \n",
       "21747367  A tripod thing bears down on you, it looks imm...   \n",
       "21747368             Honestly this is the best vr game ever   \n",
       "21747369  Smooth turning is not working right now.\\nIt a...   \n",
       "\n",
       "          timestamp_created  timestamp_updated  recommended  votes_helpful  \\\n",
       "3                1611379970         1611379970         True              0   \n",
       "5                1611379264         1611379264         True              0   \n",
       "6                1611379091         1611379091         True              0   \n",
       "18               1611373086         1611373086         True              0   \n",
       "20               1611371978         1611371978         True              0   \n",
       "...                     ...                ...          ...            ...   \n",
       "21747364         1584986750         1584986750         True              0   \n",
       "21747366         1584986704         1584986704         True              0   \n",
       "21747367         1584986693         1584986693         True              0   \n",
       "21747368         1584986673         1584986673         True              0   \n",
       "21747369         1584986631         1586382422         True              0   \n",
       "\n",
       "          votes_funny  weighted_vote_score  comment_count  steam_purchase  \\\n",
       "3                   0             0.000000              0            True   \n",
       "5                   0             0.000000              0            True   \n",
       "6                   0             0.000000              0            True   \n",
       "18                  0             0.000000              0            True   \n",
       "20                  0             0.000000              0            True   \n",
       "...               ...                  ...            ...             ...   \n",
       "21747364            0             0.000000              0            True   \n",
       "21747366            0             0.000000              0            True   \n",
       "21747367            0             0.000000              0           False   \n",
       "21747368            0             0.474138              0            True   \n",
       "21747369            0             0.386022             11            True   \n",
       "\n",
       "          received_for_free  written_during_early_access     author.steamid  \\\n",
       "3                     False                        False  76561199054755373   \n",
       "5                     False                        False  76561198170193529   \n",
       "6                     False                        False  76561198119302812   \n",
       "18                    False                        False  76561198065591528   \n",
       "20                    False                        False  76561198996835044   \n",
       "...                     ...                          ...                ...   \n",
       "21747364              False                        False  76561198817267089   \n",
       "21747366              False                        False  76561197967033932   \n",
       "21747367              False                        False  76561198046495482   \n",
       "21747368              False                        False  76561198176379749   \n",
       "21747369              False                        False  76561198041763187   \n",
       "\n",
       "          author.num_games_owned  author.num_reviews  author.playtime_forever  \\\n",
       "3                              5                   3                   5587.0   \n",
       "5                             11                   1                    823.0   \n",
       "6                             27                   2                   4192.0   \n",
       "18                            33                   1                  23329.0   \n",
       "20                           131                   2                   8557.0   \n",
       "...                          ...                 ...                      ...   \n",
       "21747364                      86                   8                   1055.0   \n",
       "21747366                     431                   7                    432.0   \n",
       "21747367                      70                  10                   3296.0   \n",
       "21747368                      79                  17                   2654.0   \n",
       "21747369                     140                   3                    210.0   \n",
       "\n",
       "          author.playtime_last_two_weeks  author.playtime_at_review  \\\n",
       "3                                 3200.0                     5524.0   \n",
       "5                                  823.0                      823.0   \n",
       "6                                 3398.0                     4192.0   \n",
       "18                                 177.0                    23329.0   \n",
       "20                                2004.0                     8557.0   \n",
       "...                                  ...                        ...   \n",
       "21747364                            14.0                       45.0   \n",
       "21747366                             0.0                       29.0   \n",
       "21747367                            15.0                       24.0   \n",
       "21747368                             0.0                       34.0   \n",
       "21747369                             0.0                       12.0   \n",
       "\n",
       "          author.last_played  \n",
       "3               1.611384e+09  \n",
       "5               1.611379e+09  \n",
       "6               1.611352e+09  \n",
       "18              1.611219e+09  \n",
       "20              1.611371e+09  \n",
       "...                      ...  \n",
       "21747364        1.611138e+09  \n",
       "21747366        1.586628e+09  \n",
       "21747367        1.611080e+09  \n",
       "21747368        1.591634e+09  \n",
       "21747369        1.589715e+09  \n",
       "\n",
       "[9618687 rows x 23 columns]"
      ]
     },
     "execution_count": 7,
     "metadata": {},
     "output_type": "execute_result"
    }
   ],
   "source": [
    "df1"
   ]
  },
  {
   "cell_type": "code",
   "execution_count": 12,
   "metadata": {},
   "outputs": [
    {
     "name": "stdout",
     "output_type": "stream",
     "text": [
      "                                                                           0\n",
      "Tom Clancy's Rainbow Six Siege                Tom Clancy's Rainbow Six Siege\n",
      "Terraria                                                            Terraria\n",
      "Garry's Mod                                                      Garry's Mod\n",
      "Grand Theft Auto V                                        Grand Theft Auto V\n",
      "PLAYERUNKNOWN'S BATTLEGROUNDS                  PLAYERUNKNOWN'S BATTLEGROUNDS\n",
      "...                                                                      ...\n",
      "DRAGON QUEST HEROES™ II                              DRAGON QUEST HEROES™ II\n",
      "Senren＊Banka                                                    Senren＊Banka\n",
      "Battle Royale Trainer                                  Battle Royale Trainer\n",
      "三国群英传8 Heroes of the Three Kingdoms 8  三国群英传8 Heroes of the Three Kingdoms 8\n",
      "Neon Hardcorps                                                Neon Hardcorps\n",
      "\n",
      "[315 rows x 1 columns]\n"
     ]
    }
   ],
   "source": [
    "games_list = df['app_name'].value_counts().to_frame()\n",
    "print(games_list.index.to_frame())"
   ]
  },
  {
   "cell_type": "code",
   "execution_count": 13,
   "metadata": {},
   "outputs": [
    {
     "data": {
      "text/plain": [
       "(9, 1)"
      ]
     },
     "execution_count": 13,
     "metadata": {},
     "output_type": "execute_result"
    }
   ],
   "source": [
    "games_list_20 = games_list.sample(frac=0.03, random_state = 40)\n",
    "games_list_20.shape"
   ]
  },
  {
   "cell_type": "code",
   "execution_count": 14,
   "metadata": {},
   "outputs": [],
   "source": [
    "#showing games in our sample of data\n",
    "games_list_20_list = games_list_20.index.tolist()\n",
    "df_20 = df.loc[(df['app_name'].isin(games_list_20_list))]"
   ]
  },
  {
   "cell_type": "code",
   "execution_count": 15,
   "metadata": {},
   "outputs": [
    {
     "data": {
      "text/plain": [
       "(263815, 23)"
      ]
     },
     "execution_count": 15,
     "metadata": {},
     "output_type": "execute_result"
    }
   ],
   "source": [
    "df_20.shape"
   ]
  },
  {
   "cell_type": "code",
   "execution_count": 16,
   "metadata": {},
   "outputs": [
    {
     "data": {
      "text/plain": [
       "ARK: Survival Evolved           184576\n",
       "Deep Rock Galactic               47002\n",
       "Assassin's Creed Origins         17832\n",
       "Avorion                           5056\n",
       "FAR: Lone Sails                   3834\n",
       "Titan Souls                       2633\n",
       "Iconoclasts                       1492\n",
       "SENRAN KAGURA ESTIVAL VERSUS      1119\n",
       "Senren＊Banka                       271\n",
       "Name: app_name, dtype: int64"
      ]
     },
     "execution_count": 16,
     "metadata": {},
     "output_type": "execute_result"
    }
   ],
   "source": [
    "df_20['app_name'].value_counts()"
   ]
  },
  {
   "cell_type": "code",
   "execution_count": 19,
   "metadata": {},
   "outputs": [],
   "source": [
    "#df_20_20 = df_20.sample(frac = 0.1)\n",
    "df_20_20 = df_20.sample(frac = 0.1)\n",
    "#df_20_20['recommended'].value_counts()\n",
    "#df_20_20 = df_20"
   ]
  },
  {
   "cell_type": "code",
   "execution_count": 30,
   "metadata": {},
   "outputs": [
    {
     "data": {
      "text/plain": [
       "True     21169\n",
       "False     5213\n",
       "Name: recommended, dtype: int64"
      ]
     },
     "execution_count": 30,
     "metadata": {},
     "output_type": "execute_result"
    }
   ],
   "source": [
    "df_20_20['recommended'].value_counts()"
   ]
  },
  {
   "cell_type": "code",
   "execution_count": 44,
   "metadata": {},
   "outputs": [
    {
     "data": {
      "text/plain": [
       "written_during_early_access  recommended\n",
       "False                        True           14313\n",
       "                             False           2674\n",
       "True                         True            6856\n",
       "                             False           2539\n",
       "Name: recommended, dtype: int64"
      ]
     },
     "execution_count": 44,
     "metadata": {},
     "output_type": "execute_result"
    }
   ],
   "source": [
    "df_20_20.groupby('written_during_early_access')['recommended'].value_counts()"
   ]
  },
  {
   "cell_type": "code",
   "execution_count": 37,
   "metadata": {},
   "outputs": [
    {
     "data": {
      "text/plain": [
       "written_during_early_access  recommended\n",
       "False                        True           0.842586\n",
       "                             False          0.157414\n",
       "True                         True           0.729750\n",
       "                             False          0.270250\n",
       "Name: recommended, dtype: float64"
      ]
     },
     "execution_count": 37,
     "metadata": {},
     "output_type": "execute_result"
    }
   ],
   "source": [
    "prop = df_20_20.groupby('written_during_early_access')['recommended'].value_counts(normalize = True)\n",
    "prop"
   ]
  },
  {
   "cell_type": "code",
   "execution_count": 38,
   "metadata": {},
   "outputs": [
    {
     "data": {
      "text/plain": [
       "written_during_early_access\n",
       "False    16987\n",
       "True      9395\n",
       "Name: recommended, dtype: int64"
      ]
     },
     "execution_count": 38,
     "metadata": {},
     "output_type": "execute_result"
    }
   ],
   "source": [
    "n = df_20_20.groupby('written_during_early_access')['recommended'].count()\n",
    "n"
   ]
  },
  {
   "cell_type": "code",
   "execution_count": 41,
   "metadata": {},
   "outputs": [
    {
     "name": "stdout",
     "output_type": "stream",
     "text": [
      "0.2702501330494944 0.15741449343615707\n"
     ]
    }
   ],
   "source": [
    "prop_early = prop[(True, False)]\n",
    "prop_not_early = prop[(False, False)]\n",
    "print(prop_early, prop_not_early)"
   ]
  },
  {
   "cell_type": "code",
   "execution_count": 42,
   "metadata": {},
   "outputs": [
    {
     "name": "stdout",
     "output_type": "stream",
     "text": [
      "9395 16987\n"
     ]
    }
   ],
   "source": [
    "n_early = n[True]\n",
    "n_not_early = n[False]\n",
    "print(n_early, n_not_early)"
   ]
  },
  {
   "cell_type": "code",
   "execution_count": 43,
   "metadata": {},
   "outputs": [
    {
     "name": "stdout",
     "output_type": "stream",
     "text": [
      "22.04006417590368\n"
     ]
    }
   ],
   "source": [
    "p_hat = (n_early * prop_early + n_not_early * prop_not_early) / (n_early + n_not_early)\n",
    "std_error = np.sqrt(p_hat * (1-p_hat) / n_early + p_hat * (1-p_hat) / n_not_early)\n",
    "z_score = (prop_early - prop_not_early) / std_error\n",
    "print(z_score)"
   ]
  },
  {
   "cell_type": "code",
   "execution_count": 46,
   "metadata": {},
   "outputs": [
    {
     "data": {
      "text/plain": [
       "(-22.04006417590368, 1.1896856830193731e-107)"
      ]
     },
     "execution_count": 46,
     "metadata": {},
     "output_type": "execute_result"
    }
   ],
   "source": [
    "n_not_recommended = np.array([2674, 2539])\n",
    "n_row = np.array([14313 + 2674, 6856 + 2539])\n",
    "from statsmodels.stats.proportion import proportions_ztest\n",
    "z_score, p_value = proportions_ztest(count = n_not_recommended, nobs = n_row, alternative = 'two-sided')\n",
    "z_score, p_value\n",
    "\n",
    "#Reject null hypothesis.\n",
    "#There is a difference in proportion between not recommended reviews in early access and not recommended reviews outside\n",
    "# of early access at a 1% level of significance. "
   ]
  },
  {
   "cell_type": "code",
   "execution_count": null,
   "metadata": {},
   "outputs": [],
   "source": [
    "df_20_20.review = df_20_20.review.astype(str)"
   ]
  },
  {
   "cell_type": "code",
   "execution_count": null,
   "metadata": {},
   "outputs": [],
   "source": [
    "import string\n",
    "import re"
   ]
  },
  {
   "cell_type": "code",
   "execution_count": null,
   "metadata": {},
   "outputs": [],
   "source": [
    "#Convert text to lowercase and removing punctuation \n",
    "\n",
    "def remove_punct(txt):\n",
    "    text_input = \"\".join([char for char in txt if char not in string.punctuation])\n",
    "    return text_input\n",
    "\n",
    "df_20_20['token_review'] = df_20_20['review'].apply(lambda x: remove_punct(x.lower()))"
   ]
  },
  {
   "cell_type": "code",
   "execution_count": null,
   "metadata": {},
   "outputs": [],
   "source": [
    "#remove numbers\n",
    "\n",
    "def remove_digits(txt):\n",
    "    return re.sub(r' \\d+', '', str(txt))\n",
    "\n",
    "df_20_20['token_review1'] = df_20_20['token_review'].apply(lambda x: remove_digits(x))"
   ]
  },
  {
   "cell_type": "code",
   "execution_count": null,
   "metadata": {},
   "outputs": [],
   "source": [
    "#remove non alphabet characters\n",
    "\n",
    "def remove_chars(txt):\n",
    "    return re.sub(\"[^a-zA-Z]+\", ' ', txt)\n",
    "\n",
    "df_20_20['token_review2'] = df_20_20['token_review1'].apply(lambda x: remove_chars(x))"
   ]
  },
  {
   "cell_type": "code",
   "execution_count": null,
   "metadata": {},
   "outputs": [],
   "source": [
    "#Convert reviews into tokens\n",
    "\n",
    "def tokenize(txt):\n",
    "    tokens = re.split('\\W+', txt)\n",
    "    return tokens\n",
    "\n",
    "df_20_20['token_review3'] = df_20_20['token_review2'].apply(lambda x: tokenize(x))"
   ]
  },
  {
   "cell_type": "code",
   "execution_count": null,
   "metadata": {},
   "outputs": [],
   "source": [
    "#remove stopwords\n",
    "\n",
    "stopword = nltk.corpus.stopwords.words('english')\n",
    "\n",
    "def rem_stopwords(txt):\n",
    "    text = [word for word in txt if word not in stopword]\n",
    "    return text\n",
    "\n",
    "df_20_20['token_review4'] = df_20_20['token_review3'].apply(lambda x: rem_stopwords(x))\n",
    "    "
   ]
  },
  {
   "cell_type": "code",
   "execution_count": null,
   "metadata": {},
   "outputs": [],
   "source": [
    "#convert words to base form \n",
    "wn = nltk.WordNetLemmatizer()\n",
    "\n",
    "def lemmatizer(txt):\n",
    "    text = [wn.lemmatize(word) for word in txt]\n",
    "    return text\n",
    "\n",
    "df_20_20['token_review5']=df_20_20['token_review4'].apply(lambda x: lemmatizer(x))"
   ]
  },
  {
   "cell_type": "code",
   "execution_count": null,
   "metadata": {},
   "outputs": [],
   "source": []
  },
  {
   "cell_type": "code",
   "execution_count": null,
   "metadata": {},
   "outputs": [],
   "source": [
    "df_20_20['reviews_fin'] = df_20_20['token_review5'].apply(lambda x:' '.join(x))\n",
    "df_20_20['rec_var'] = df_20_20['recommended'].apply(lambda x: 0 if x==1 else 1)"
   ]
  },
  {
   "cell_type": "code",
   "execution_count": null,
   "metadata": {},
   "outputs": [],
   "source": [
    "pos_reviews = df_20_20[df_20_20['rec_var']== 0] #majority variable positive reviews\n",
    "neg_reviews = df_20_20[df_20_20['rec_var']== 1] #minority variable negative reviews"
   ]
  },
  {
   "cell_type": "code",
   "execution_count": null,
   "metadata": {},
   "outputs": [],
   "source": [
    "print(pos_reviews['review'].count(),\n",
    "    neg_reviews['review'].count())"
   ]
  },
  {
   "cell_type": "code",
   "execution_count": null,
   "metadata": {},
   "outputs": [],
   "source": [
    "from nltk.probability import FreqDist\n",
    "\n",
    "pos_rev_words = pos_reviews['token_review5']\n",
    "pos_words = []\n",
    "for reviews in pos_rev_words: \n",
    "    pos_words += reviews\n",
    "    \n",
    "freqdist_pos = FreqDist(pos_words)\n",
    "freqdist_pos"
   ]
  },
  {
   "cell_type": "code",
   "execution_count": null,
   "metadata": {},
   "outputs": [],
   "source": [
    "neg_rev_words = neg_reviews['token_review5']\n",
    "neg_words = []\n",
    "for reviews in neg_rev_words: \n",
    "    neg_words += reviews\n",
    "    \n",
    "freqdist_neg = FreqDist(neg_words)\n",
    "freqdist_neg"
   ]
  },
  {
   "cell_type": "code",
   "execution_count": null,
   "metadata": {},
   "outputs": [],
   "source": [
    "from wordcloud import WordCloud\n",
    "\n",
    "wordcloud = WordCloud(width = 800, height = 800,\n",
    "                     background_color = 'white',\n",
    "                     stopwords = stopword,\n",
    "                     min_font_size = 10).generate_from_frequencies(freqdist_pos)\n",
    "\n",
    "plt.figure(figsize = (10,10), facecolor = None)\n",
    "plt.imshow(wordcloud)\n",
    "plt.axis('off')\n",
    "plt.savefig('postive.png')\n",
    "plt.show\n"
   ]
  },
  {
   "cell_type": "code",
   "execution_count": null,
   "metadata": {},
   "outputs": [],
   "source": [
    "wordcloud = WordCloud(width = 800, height = 800,\n",
    "                     background_color = 'white',\n",
    "                     stopwords = stopword,\n",
    "                     min_font_size = 10).generate_from_frequencies(freqdist_neg)\n",
    "\n",
    "plt.figure(figsize = (10,10), facecolor = None)\n",
    "plt.imshow(wordcloud)\n",
    "plt.axis('off')\n",
    "plt.savefig('negative.png')\n",
    "plt.show\n"
   ]
  },
  {
   "cell_type": "code",
   "execution_count": null,
   "metadata": {},
   "outputs": [],
   "source": [
    "(pd.Series(nltk.ngrams(pos_words, 2)).value_counts())[:10]"
   ]
  },
  {
   "cell_type": "code",
   "execution_count": null,
   "metadata": {},
   "outputs": [],
   "source": [
    "(pd.Series(nltk.ngrams(pos_words, 3)).value_counts())[:10]"
   ]
  },
  {
   "cell_type": "code",
   "execution_count": null,
   "metadata": {},
   "outputs": [],
   "source": [
    "(pd.Series(nltk.ngrams(neg_words, 2)).value_counts())[:10]"
   ]
  },
  {
   "cell_type": "code",
   "execution_count": null,
   "metadata": {},
   "outputs": [],
   "source": [
    "(pd.Series(nltk.ngrams(neg_words, 3)).value_counts())[:10]"
   ]
  },
  {
   "cell_type": "code",
   "execution_count": null,
   "metadata": {},
   "outputs": [],
   "source": [
    "from sklearn.feature_extraction.text import TfidfTransformer \n",
    "from sklearn.feature_extraction.text import TfidfVectorizer\n",
    "from sklearn.feature_extraction.text import CountVectorizer\n",
    "from sklearn.model_selection import train_test_split"
   ]
  },
  {
   "cell_type": "code",
   "execution_count": null,
   "metadata": {},
   "outputs": [],
   "source": [
    "df_x = df_20_20['reviews_fin']\n",
    "y = df_20_20['rec_var']\n",
    "X_train, X_test, y_train, y_test = train_test_split(df_x, y, \n",
    "                                                    test_size = 0.2, random_state = 42)\n"
   ]
  },
  {
   "cell_type": "code",
   "execution_count": null,
   "metadata": {},
   "outputs": [],
   "source": [
    "import xgboost"
   ]
  },
  {
   "cell_type": "code",
   "execution_count": null,
   "metadata": {},
   "outputs": [],
   "source": [
    "vectorizer = TfidfVectorizer()\n",
    "train_features = vectorizer.fit_transform(X_train)\n",
    "test_vectors = vectorizer.transform(X_test)\n",
    "print(train_features.shape, test_vectors.shape)"
   ]
  },
  {
   "cell_type": "code",
   "execution_count": null,
   "metadata": {},
   "outputs": [],
   "source": [
    "from sklearn.model_selection import GridSearchCV, KFold\n",
    "from sklearn.pipeline import Pipeline\n",
    "from time import time\n",
    "from pprint import pprint\n",
    "import logging\n",
    "from sklearn.metrics import recall_score, roc_auc_score, make_scorer, roc_curve"
   ]
  },
  {
   "cell_type": "code",
   "execution_count": null,
   "metadata": {},
   "outputs": [],
   "source": [
    "from sklearn.pipeline import make_pipeline\n",
    "from sklearn.naive_bayes import MultinomialNB\n",
    "from sklearn.ensemble import RandomForestClassifier \n",
    "from sklearn.tree import DecisionTreeClassifier\n",
    "\n",
    "cv = KFold(n_splits=5)\n",
    "\n",
    "\n",
    "pipe_multi = Pipeline([('vect', TfidfVectorizer()),\n",
    "                      ('clf', MultinomialNB())])\n",
    "\n",
    "pipe_rf = Pipeline([('vect', TfidfVectorizer()),\n",
    "                      ('clf', RandomForestClassifier(random_state = 42))])\n",
    "\n",
    "\n",
    "grid_params_multi = {'vect__ngram_range': [(1,1), (2,2), (3,3)]\n",
    "                     }\n",
    "\n",
    "grid_params_rf = {'vect__ngram_range': [(1,1), (2,2), (3,3)],\n",
    "                  'clf__max_depth': [10, 20, 50, 100],\n",
    "                  'clf__n_estimators': [200, 400, 600, 800]\n",
    "                     }\n",
    "\n",
    "multiNB = GridSearchCV(estimator = pipe_multi,\n",
    "                      param_grid = grid_params_multi,\n",
    "                      scoring = 'roc_auc',\n",
    "                      cv = cv, \n",
    "                       n_jobs = -1)\n",
    "\n",
    "rf = GridSearchCV(estimator = pipe_rf,\n",
    "                  param_grid = grid_params_rf,\n",
    "                  scoring = 'roc_auc',\n",
    "                  cv = cv, \n",
    "                  n_jobs = -1)\n",
    "\n",
    "grids = [multiNB, rf] #rf\n",
    "\n",
    "grid_dict = {0: 'Naive Bayes',\n",
    "            1: 'Random Forest'}\n",
    "\n",
    "print('Performing Model Optimizations')\n",
    "best_auc = 0.0\n",
    "best_clf = 0\n",
    "best_gs = ''\n",
    "\n",
    "for idx, gs in enumerate(grids):\n",
    "    print('\\nEstimator: %s' % grid_dict[idx])\n",
    "    gs.fit(X_train, y_train)\n",
    "    print('Best params are : %s' % gs.best_params_)\n",
    "    # Best training data recall score\n",
    "    print('Best training AUC score: %.3f' % gs.best_score_)\n",
    "    # Predict on test data with best params\n",
    "    y_pred_proba = gs.predict_proba(X_test)[:,1]\n",
    "    # Test data accuracy of model with best params\n",
    "    print('Test set AUC score for best params: %.3f ' % roc_auc_score(y_test, y_pred_proba))\n",
    "    #Plot ROC curve for each estimator\n",
    "    fpr, tpr, _ = roc_curve(y_test, y_pred_proba)\n",
    "    auc = roc_auc_score(y_test,y_pred_proba)\n",
    "    plt.plot([0,1],[0,1], linestyle ='--')\n",
    "    plt.plot(fpr, tpr, label = 'auc=%.3f' % auc)\n",
    "    plt.title(label = 'ROC Curve %s' % grid_dict[idx])\n",
    "    name = grid_dict[idx]\n",
    "    plt.savefig(name + \".png\")\n",
    "    plt.show()\n",
    "    # Track best (highest test auc) model\n",
    "    if roc_auc_score(y_test, y_pred_proba) > best_auc:\n",
    "        best_auc = roc_auc_score(y_test, y_pred_proba)\n",
    "        best_gs = gs\n",
    "        best_clf = idx\n",
    "print('\\nClassifier with best test set AUC: %s' % grid_dict[best_clf])\n",
    "\n",
    "\n"
   ]
  },
  {
   "cell_type": "code",
   "execution_count": null,
   "metadata": {},
   "outputs": [],
   "source": [
    "print(rf.best_params_)"
   ]
  },
  {
   "cell_type": "code",
   "execution_count": null,
   "metadata": {},
   "outputs": [],
   "source": [
    "vectorizer = TfidfVectorizer(ngram_range = (1,1))\n",
    "X_train_vec = vectorizer.fit_transform(X_train)\n",
    "X_train_vec_df = pd.DataFrame(X_train_vec.toarray())\n",
    "X_test_vec = vectorizer.transform(X_test)\n",
    "X_test_vec_df = pd.DataFrame(X_test_vec.toarray())\n"
   ]
  },
  {
   "cell_type": "code",
   "execution_count": null,
   "metadata": {},
   "outputs": [],
   "source": [
    "words = vectorizer.get_feature_names()"
   ]
  },
  {
   "cell_type": "code",
   "execution_count": null,
   "metadata": {},
   "outputs": [],
   "source": [
    "X_train_vec_df.columns = words\n",
    "X_test_vec_df.columns = words"
   ]
  },
  {
   "cell_type": "code",
   "execution_count": null,
   "metadata": {},
   "outputs": [],
   "source": [
    "clf = RandomForestClassifier(random_state = 42, max_depth= 100, n_estimators= 800)\n",
    "clf_fit = clf.fit(X_train_vec_df, y_train)\n"
   ]
  },
  {
   "cell_type": "code",
   "execution_count": null,
   "metadata": {},
   "outputs": [],
   "source": [
    "import shap"
   ]
  },
  {
   "cell_type": "code",
   "execution_count": null,
   "metadata": {},
   "outputs": [],
   "source": [
    "from scipy import interpolate\n",
    "from sklearn import metrics"
   ]
  },
  {
   "cell_type": "code",
   "execution_count": null,
   "metadata": {},
   "outputs": [],
   "source": [
    "explainer = shap.TreeExplainer(clf_fit, X_train_vec_df, feature_names = words)\n",
    "shap_values = explainer(X_test_vec_df)\n",
    "print(shap_values.values.shape)"
   ]
  },
  {
   "cell_type": "code",
   "execution_count": null,
   "metadata": {},
   "outputs": [],
   "source": [
    "import copy\n",
    "\n",
    "shap.initjs()\n",
    "shap_values1 = copy.deepcopy(shap_values)\n",
    "shap_values1.values = shap_values1.values[:,:,1]\n",
    "shap_values1.base_values = shap_values1.base_values[:,1]\n",
    "\n",
    "shap.plots.beeswarm(shap_values1, max_display = 20, show= False)\n",
    "plt.savefig('beeswarm.png', bbox_inches=\"tight\")"
   ]
  },
  {
   "cell_type": "code",
   "execution_count": null,
   "metadata": {},
   "outputs": [],
   "source": [
    "shap.initjs()\n",
    "\n",
    "ind = 48\n",
    "print(X_test.iloc[ind], y_test.iloc[ind])"
   ]
  },
  {
   "cell_type": "code",
   "execution_count": null,
   "metadata": {},
   "outputs": [],
   "source": [
    "shap.plots.waterfall(shap_values[ind,:,1], show = False)\n",
    "plt.savefig('waterfall.png', bbox_inches=\"tight\")"
   ]
  },
  {
   "cell_type": "code",
   "execution_count": null,
   "metadata": {},
   "outputs": [],
   "source": [
    "shap.plots.scatter(shap_values[:,words.index('story'),1], show = False)\n",
    "plt.savefig('scatter.png', bbox_inches=\"tight\")"
   ]
  },
  {
   "cell_type": "code",
   "execution_count": null,
   "metadata": {},
   "outputs": [],
   "source": [
    "y_test.value_counts()"
   ]
  },
  {
   "cell_type": "code",
   "execution_count": null,
   "metadata": {},
   "outputs": [],
   "source": [
    "feature_scores = pd.Series(clf_fit.feature_importances_,\n",
    "                          index = words).sort_values(ascending=False)\n",
    "feature_scores[:10]\n"
   ]
  },
  {
   "cell_type": "code",
   "execution_count": null,
   "metadata": {},
   "outputs": [],
   "source": [
    "feat_imp = feature_scores.nlargest(10).sort_values(ascending=True)\n",
    "feat_imp.plot(kind = 'barh', figsize = (10,10))\n",
    "plt.savefig('feat_imp.png', bbox_inches=\"tight\")"
   ]
  },
  {
   "cell_type": "code",
   "execution_count": null,
   "metadata": {},
   "outputs": [],
   "source": [
    "from sklearn.metrics import precision_recall_curve\n",
    "\n",
    "y_pred_proba = clf_fit.predict_proba(X_test_vec_df)[:,1]\n",
    "precision, recall, thresholds = precision_recall_curve(y_test, y_pred_proba)\n",
    "fscore = (2 * precision * recall) / (precision + recall)\n",
    "ix = np.argmax(fscore)\n",
    "print('Best Threshold = %f, F-Score = %.3f' % (thresholds[ix], fscore[ix]))\n",
    "plt.plot(recall, precision, label = 'auc=%.3f' % auc, marker = '.')\n",
    "plt.plot(recall[ix], precision[ix], marker = 'o', color = 'black', label = 'Best')\n",
    "plt.title(label = 'Precision Recall Curve')\n",
    "plt.savefig('prec_recall.png', bbox_inches=\"tight\")\n",
    "plt.show()\n",
    "optimal_thresh = thresholds[ix]\n",
    "optimal_prec = precision[ix]"
   ]
  },
  {
   "cell_type": "code",
   "execution_count": null,
   "metadata": {},
   "outputs": [],
   "source": [
    "from sklearn.metrics import confusion_matrix\n",
    "\n",
    "y_pred = (y_pred_proba > optimal_thresh)\n",
    "conf_mat = confusion_matrix(y_test, y_pred.astype(int), labels = [1,0])\n",
    "conf_mat"
   ]
  },
  {
   "cell_type": "code",
   "execution_count": null,
   "metadata": {},
   "outputs": [],
   "source": [
    "print(X_test.shape)\n",
    "y_pred_df = y_pred.astype(int)\n",
    "X_variables = pd.DataFrame(X_test)\n",
    "X_variables['predictions'] = y_pred_df"
   ]
  },
  {
   "cell_type": "code",
   "execution_count": null,
   "metadata": {},
   "outputs": [],
   "source": [
    "negative_reviews = X_variables[X_variables['predictions'] == 1 ]\n",
    "negative_reviews.head(10)\n"
   ]
  },
  {
   "cell_type": "code",
   "execution_count": null,
   "metadata": {},
   "outputs": [],
   "source": [
    "negative_reviews.count()"
   ]
  },
  {
   "cell_type": "code",
   "execution_count": null,
   "metadata": {},
   "outputs": [],
   "source": [
    "X_variables.iloc[ind]"
   ]
  },
  {
   "cell_type": "code",
   "execution_count": null,
   "metadata": {},
   "outputs": [],
   "source": []
  },
  {
   "cell_type": "markdown",
   "metadata": {},
   "source": [
    "## Unused Code For Now"
   ]
  },
  {
   "cell_type": "code",
   "execution_count": null,
   "metadata": {},
   "outputs": [],
   "source": [
    "precision, recall, thresholds = precision_recall_curve(y_test, y_pred_proba)"
   ]
  },
  {
   "cell_type": "code",
   "execution_count": null,
   "metadata": {},
   "outputs": [],
   "source": [
    "precision.shape, recall.shape, thresholds.shape"
   ]
  },
  {
   "cell_type": "code",
   "execution_count": null,
   "metadata": {},
   "outputs": [],
   "source": [
    "precision = np.delete(precision, -1)\n",
    "recall = np.delete(recall, -1)\n",
    "\n",
    "precision.shape, recall.shape, thresholds.shape"
   ]
  },
  {
   "cell_type": "code",
   "execution_count": null,
   "metadata": {},
   "outputs": [],
   "source": [
    "#locate recall from selected precision\n",
    "\n",
    "precision_score = optimal_prec\n",
    "find_recall = interpolate.interp1d(precision, recall)\n",
    "find_thresh = interpolate.interp1d(precision, thresholds)\n",
    "thresh_value = find_thresh(precision_score)\n",
    "recall_score = find_recall(precision_score)\n",
    "recall_score, thresh_value"
   ]
  },
  {
   "cell_type": "code",
   "execution_count": null,
   "metadata": {},
   "outputs": [],
   "source": [
    "plt.plot(recall, precision, label = 'auc=%.3f' % auc, marker = '.')\n",
    "plt.plot(recall_score, precision_score, marker = 'o', color = 'black', label = 'Best')\n",
    "plt.title(label = 'Precision Recall Curve')\n",
    "plt.show()\n"
   ]
  },
  {
   "cell_type": "code",
   "execution_count": null,
   "metadata": {},
   "outputs": [],
   "source": [
    "tpr_opt = find_tpr(thresh_value)\n",
    "fpr_opt = find_fpr(thresh_value)\n",
    "print(tpr_opt, fpr_opt, thresh_value)"
   ]
  },
  {
   "cell_type": "code",
   "execution_count": null,
   "metadata": {},
   "outputs": [],
   "source": []
  },
  {
   "cell_type": "code",
   "execution_count": null,
   "metadata": {},
   "outputs": [],
   "source": [
    "#locating optimal point\n",
    "fpr, tpr, thresholds = roc_curve(y_test, y_pred_proba)\n",
    "\n",
    "find_tpr = interpolate.interp1d(thresholds, tpr) #plug in thresholds for tpr\n",
    "find_fpr = interpolate.interp1d(thresholds, fpr) #plug in thresh for fpr\n",
    "thresh_look = interpolate.interp1d(tpr, thresholds) #plug in tpr for thresholds\n"
   ]
  },
  {
   "cell_type": "code",
   "execution_count": null,
   "metadata": {},
   "outputs": [],
   "source": []
  },
  {
   "cell_type": "code",
   "execution_count": null,
   "metadata": {},
   "outputs": [],
   "source": [
    "ttt = thresh_look(0.6) #threshold value for value of tpr\n",
    "ttt"
   ]
  },
  {
   "cell_type": "code",
   "execution_count": null,
   "metadata": {},
   "outputs": [],
   "source": [
    "fpr, tpr, _ = roc_curve(y_test, y_pred_proba)\n",
    "auc = roc_auc_score(y_test,y_pred_proba)\n",
    "plt.plot([0,1],[0,1], linestyle ='--')\n",
    "plt.plot(fpr, tpr, label = 'auc=%.3f' % auc, marker = '.')\n",
    "plt.plot(fpr_opt, tpr_opt, marker = 'o', color = 'black')\n",
    "plt.title(label = 'ROC Curve Random Forest Classifier')\n",
    "plt.show()"
   ]
  },
  {
   "cell_type": "code",
   "execution_count": null,
   "metadata": {},
   "outputs": [],
   "source": [
    "y_pred_opt = (y_pred_proba > ttt)\n",
    "conf_mat_opt = confusion_matrix(y_test, y_pred_opt, labels = [0,1])\n",
    "conf_mat_opt"
   ]
  },
  {
   "cell_type": "code",
   "execution_count": null,
   "metadata": {},
   "outputs": [],
   "source": []
  },
  {
   "cell_type": "code",
   "execution_count": null,
   "metadata": {},
   "outputs": [],
   "source": [
    "#find best true negative (tn) results\n",
    "tn = 7000\n",
    "best_thresh = 0\n",
    "for t in high_thresh:\n",
    "    y_pred_opt = (y_pred_proba > t)\n",
    "    conf_mat_opt = confusion_matrix(y_test, y_pred_opt, labels = [0,1])\n",
    "    if conf_mat_opt[1][0] > tn:\n",
    "        best_thresh = t\n",
    "        tn = conf_mat_opt[1][0]\n",
    "        conf_mat_best = conf_mat_opt\n",
    "\n",
    "best_thresh, tn, conf_mat_best"
   ]
  },
  {
   "cell_type": "code",
   "execution_count": null,
   "metadata": {},
   "outputs": [],
   "source": [
    "high_thresh = thresholds[thresholds > 0.5]\n",
    "high_thresh"
   ]
  },
  {
   "cell_type": "code",
   "execution_count": null,
   "metadata": {},
   "outputs": [],
   "source": [
    "from sklearn.metrics import accuracy_score\n",
    "\n",
    "#accuracy prior to choosing threshold\n",
    "accuracy = accuracy_score(y_test, y_pred_proba.astype('int'))\n",
    "print(accuracy)"
   ]
  },
  {
   "cell_type": "code",
   "execution_count": null,
   "metadata": {},
   "outputs": [],
   "source": [
    "y_pred = y_pred_proba\n",
    "y_pred = (y_pred >= opt_thresh).astype('int')\n",
    "\n",
    "accuracy_thresh = accuracy_score(y_test, y_pred)\n",
    "print(accuracy_thresh)"
   ]
  },
  {
   "cell_type": "code",
   "execution_count": null,
   "metadata": {},
   "outputs": [],
   "source": [
    "plt.plot(recall, precision, label = 'auc=%.3f' % auc, marker = '.')\n",
    "plt.plot(0.9, prec_point, marker = 'o', color = 'black', label = 'Best')\n",
    "plt.title(label = 'Precision Recall Curve')\n",
    "plt.show()\n"
   ]
  },
  {
   "cell_type": "code",
   "execution_count": null,
   "metadata": {},
   "outputs": [],
   "source": []
  }
 ],
 "metadata": {
  "kernelspec": {
   "display_name": "Python 3",
   "language": "python",
   "name": "python3"
  },
  "language_info": {
   "codemirror_mode": {
    "name": "ipython",
    "version": 3
   },
   "file_extension": ".py",
   "mimetype": "text/x-python",
   "name": "python",
   "nbconvert_exporter": "python",
   "pygments_lexer": "ipython3",
   "version": "3.7.4"
  }
 },
 "nbformat": 4,
 "nbformat_minor": 2
}
